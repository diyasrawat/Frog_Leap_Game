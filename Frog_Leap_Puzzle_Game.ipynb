{
  "nbformat": 4,
  "nbformat_minor": 0,
  "metadata": {
    "colab": {
      "provenance": []
    },
    "kernelspec": {
      "name": "python3",
      "display_name": "Python 3"
    },
    "language_info": {
      "name": "python"
    }
  },
  "cells": [
    {
      "cell_type": "markdown",
      "source": [
        "FROG LEAP PUZZLE GAME"
      ],
      "metadata": {
        "id": "wJJrzHu_HMg_"
      }
    },
    {
      "cell_type": "code",
      "execution_count": 4,
      "metadata": {
        "colab": {
          "base_uri": "https://localhost:8080/"
        },
        "id": "ia6Ojip_Gx1z",
        "outputId": "e2f5e235-d069-4c1a-8762-02d571fdf58f"
      },
      "outputs": [
        {
          "output_type": "stream",
          "name": "stdout",
          "text": [
            "###### Always enter an integer between 0 and 6 ######\n",
            "[ 0 ,  1 ,  2 ,  3 ,  4 ,  5 ,  6 ]\n",
            "['G', 'G', 'G', '-', 'B', 'B', 'B']\n",
            "Press 'q' to quit, 'r' to restart, 'e' to end, else\n",
            "Enter the position of the frog to move: 1\n",
            "Invalid move. Cannot leap over or move to the right.\n",
            "[ 0 ,  1 ,  2 ,  3 ,  4 ,  5 ,  6 ]\n",
            "['G', 'G', 'G', '-', 'B', 'B', 'B']\n",
            "Press 'q' to quit, 'r' to restart, 'e' to end, else\n",
            "Enter the position of the frog to move: \n",
            "Invalid input. Please enter a valid position.\n",
            "[ 0 ,  1 ,  2 ,  3 ,  4 ,  5 ,  6 ]\n",
            "['G', 'G', 'G', '-', 'B', 'B', 'B']\n",
            "Press 'q' to quit, 'r' to restart, 'e' to end, else\n",
            "Enter the position of the frog to move: 3\n",
            "Invalid move. Empty leaf selected.\n",
            "[ 0 ,  1 ,  2 ,  3 ,  4 ,  5 ,  6 ]\n",
            "['G', 'G', 'G', '-', 'B', 'B', 'B']\n",
            "Press 'q' to quit, 'r' to restart, 'e' to end, else\n",
            "Enter the position of the frog to move: \n",
            "Invalid input. Please enter a valid position.\n",
            "[ 0 ,  1 ,  2 ,  3 ,  4 ,  5 ,  6 ]\n",
            "['G', 'G', 'G', '-', 'B', 'B', 'B']\n",
            "Press 'q' to quit, 'r' to restart, 'e' to end, else\n",
            "Enter the position of the frog to move: 4\n",
            "[ 0 ,  1 ,  2 ,  3 ,  4 ,  5 ,  6 ]\n",
            "['G', 'G', 'G', 'B', '-', 'B', 'B']\n",
            "Press 'q' to quit, 'r' to restart, 'e' to end, else\n",
            "Enter the position of the frog to move: 6\n",
            "Invalid move. Cannot leap over or move to the left.\n",
            "[ 0 ,  1 ,  2 ,  3 ,  4 ,  5 ,  6 ]\n",
            "['G', 'G', 'G', 'B', '-', 'B', 'B']\n",
            "Press 'q' to quit, 'r' to restart, 'e' to end, else\n",
            "Enter the position of the frog to move: 3\n",
            "Invalid move. Cannot leap over or move to the left.\n",
            "[ 0 ,  1 ,  2 ,  3 ,  4 ,  5 ,  6 ]\n",
            "['G', 'G', 'G', 'B', '-', 'B', 'B']\n",
            "Press 'q' to quit, 'r' to restart, 'e' to end, else\n",
            "Enter the position of the frog to move: 2\n",
            "[ 0 ,  1 ,  2 ,  3 ,  4 ,  5 ,  6 ]\n",
            "['G', 'G', '-', 'B', 'G', 'B', 'B']\n",
            "Press 'q' to quit, 'r' to restart, 'e' to end, else\n",
            "Enter the position of the frog to move: 0\n",
            "Invalid move. Cannot leap over or move to the right.\n",
            "[ 0 ,  1 ,  2 ,  3 ,  4 ,  5 ,  6 ]\n",
            "['G', 'G', '-', 'B', 'G', 'B', 'B']\n",
            "Press 'q' to quit, 'r' to restart, 'e' to end, else\n",
            "Enter the position of the frog to move: 2\n",
            "Invalid move. Empty leaf selected.\n",
            "[ 0 ,  1 ,  2 ,  3 ,  4 ,  5 ,  6 ]\n",
            "['G', 'G', '-', 'B', 'G', 'B', 'B']\n",
            "Press 'q' to quit, 'r' to restart, 'e' to end, else\n",
            "Enter the position of the frog to move: e\n",
            "Ending the game loop.\n",
            "Game loop ended.\n"
          ]
        }
      ],
      "source": [
        "def print_board(positions):\n",
        "    print(\"[ 0 ,  1 ,  2 ,  3 ,  4 ,  5 ,  6 ]\")\n",
        "    print(positions)\n",
        "\n",
        "def frog_leap_puzzle():\n",
        "    while True:\n",
        "        positions = ['G', 'G', 'G', '-', 'B', 'B', 'B']\n",
        "        print(\"###### Always enter an integer between 0 and 6 ######\")\n",
        "\n",
        "        while True:\n",
        "            print_board(positions)\n",
        "            pos = input(\"Press 'q' to quit, 'r' to restart, 'e' to end, else\\nEnter the position of the frog to move: \")\n",
        "\n",
        "            if pos == 'q':\n",
        "                print(\"YOU LOSE!\")\n",
        "                break\n",
        "            elif pos == 'r':\n",
        "                print(\"Restarting the game...\")\n",
        "                break\n",
        "            elif pos == 'e':\n",
        "                print(\"Ending the game loop.\")\n",
        "                break\n",
        "\n",
        "            try:\n",
        "                pos = int(pos)\n",
        "            except ValueError:\n",
        "                print(\"Invalid input. Please enter a valid position.\")\n",
        "                continue\n",
        "\n",
        "            if not 0 <= pos <= 6:\n",
        "                print(\"Invalid move. Position should be between 0 and 6.\")\n",
        "                continue\n",
        "\n",
        "            if positions[pos] == '-':\n",
        "                print(\"Invalid move. Empty leaf selected.\")\n",
        "                continue\n",
        "\n",
        "            pos2 = 0\n",
        "\n",
        "            if positions[pos] == 'G':\n",
        "                if pos + 1 <= 6 and positions[pos + 1] == '-':\n",
        "                    pos2 = pos + 1\n",
        "                elif pos + 2 <= 6 and positions[pos + 2] == '-' and positions[pos + 1] == 'B':\n",
        "                    pos2 = pos + 2\n",
        "                else:\n",
        "                    print(\"Invalid move. Cannot leap over or move to the right.\")\n",
        "                    continue\n",
        "            elif positions[pos] == 'B':\n",
        "                if pos - 1 >= 0 and positions[pos - 1] == '-':\n",
        "                    pos2 = pos - 1\n",
        "                elif pos - 2 >= 0 and positions[pos - 2] == '-' and positions[pos - 1] == 'G':\n",
        "                    pos2 = pos - 2\n",
        "                else:\n",
        "                    print(\"Invalid move. Cannot leap over or move to the left.\")\n",
        "                    continue\n",
        "\n",
        "            positions[pos], positions[pos2] = positions[pos2], positions[pos]\n",
        "\n",
        "            if positions == ['B', 'B', 'B', '-', 'G', 'G', 'G']:\n",
        "                print_board(positions)\n",
        "                print(\"YOU WIN!\")\n",
        "                break\n",
        "\n",
        "        if pos == 'e':\n",
        "            print(\"Game loop ended.\")\n",
        "            break\n",
        "\n",
        "if __name__ == \"__main__\":\n",
        "    frog_leap_puzzle()\n",
        "2"
      ]
    },
    {
      "cell_type": "code",
      "source": [],
      "metadata": {
        "id": "yHINoc14G7m-"
      },
      "execution_count": null,
      "outputs": []
    }
  ]
}